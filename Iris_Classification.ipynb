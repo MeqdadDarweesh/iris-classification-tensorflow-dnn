{
  "nbformat": 4,
  "nbformat_minor": 0,
  "metadata": {
    "colab": {
      "name": "Iris Classification.ipynb",
      "provenance": [],
      "authorship_tag": "ABX9TyNt5HK24fSh0bRbEECHdJ8e",
      "include_colab_link": true
    },
    "kernelspec": {
      "name": "python3",
      "display_name": "Python 3"
    }
  },
  "cells": [
    {
      "cell_type": "markdown",
      "metadata": {
        "id": "view-in-github",
        "colab_type": "text"
      },
      "source": [
        "<a href=\"https://colab.research.google.com/github/MeqdadDarweesh/iris-classification-tensorflow-dnn/blob/master/Iris_Classification.ipynb\" target=\"_parent\"><img src=\"https://colab.research.google.com/assets/colab-badge.svg\" alt=\"Open In Colab\"/></a>"
      ]
    },
    {
      "cell_type": "markdown",
      "metadata": {
        "id": "JxAIe3z4hYf5",
        "colab_type": "text"
      },
      "source": [
        "# **Iris Classification**\n",
        "\n",
        "\n",
        "> By: Meqdad Darweesh\n",
        "\n",
        "---\n",
        "\n",
        "\n",
        "![alt text](https://s3.amazonaws.com/assets.datacamp.com/blog_assets/Machine+Learning+R/iris-machinelearning.png)\n",
        "\n",
        "This tutorial is based on [this guide](https://www.tensorflow.org/tutorials/estimator/premade) from Tensorflow official website."
      ]
    },
    {
      "cell_type": "markdown",
      "metadata": {
        "id": "wdbo2P59hzCb",
        "colab_type": "text"
      },
      "source": [
        "### Import required libraries\n",
        "\n",
        "\n",
        "*   Tensorflow\n",
        "*   Pandas\n",
        "\n"
      ]
    },
    {
      "cell_type": "code",
      "metadata": {
        "id": "3TwEd2p86lqr",
        "colab_type": "code",
        "colab": {
          "base_uri": "https://localhost:8080/",
          "height": 102
        },
        "outputId": "f0925cda-8b1e-4d66-ed2a-0017ad3cc068"
      },
      "source": [
        "%tensorflow_version 2.x # Use it if you're on a notebook file, Not on your local machine.\n",
        "\n",
        "import tensorflow as tf\n",
        "import pandas as pd"
      ],
      "execution_count": null,
      "outputs": [
        {
          "output_type": "stream",
          "text": [
            "`%tensorflow_version` only switches the major version: 1.x or 2.x.\n",
            "You set: `2.x # Use it if you're on a notebook file, Not on your local machine.`. This will be interpreted as: `2.x`.\n",
            "\n",
            "\n",
            "TensorFlow 2.x selected.\n"
          ],
          "name": "stdout"
        }
      ]
    },
    {
      "cell_type": "markdown",
      "metadata": {
        "id": "ezWWiiO-Rkf_",
        "colab_type": "text"
      },
      "source": [
        "### Dataset\n",
        "This specific dataset seperates flowers into 3 different classes of species.\n",
        "\n",
        "*   Setosa\n",
        "*   Versicolor\n",
        "*   Virginica\n",
        "\n",
        "The information about each flower is the following.\n",
        "\n",
        "`sepal length`\n",
        "\n",
        "`sepal width`\n",
        "\n",
        "`petal length`\n",
        "\n",
        "`petal width`"
      ]
    },
    {
      "cell_type": "code",
      "metadata": {
        "id": "PY6BtTllRgMC",
        "colab_type": "code",
        "colab": {}
      },
      "source": [
        "CSV_COLUMN_NAMES = ['SepalLength', 'SepalWidth', 'PetalLength', 'PetalWidth', 'Species']\n",
        "SPECIES = ['Setosa', 'Versicolor', 'Virginica']\n",
        "# Remember: Python Constants are written in Capital letters."
      ],
      "execution_count": null,
      "outputs": []
    },
    {
      "cell_type": "markdown",
      "metadata": {
        "id": "Kasl4PE0jmhO",
        "colab_type": "text"
      },
      "source": [
        "### Loading training and testing data\n",
        "\n",
        "We used keras (inside Tensorflow) to load the training and testing dataset into a Pandas dataframe."
      ]
    },
    {
      "cell_type": "code",
      "metadata": {
        "id": "ROA0l2_BSUpi",
        "colab_type": "code",
        "colab": {}
      },
      "source": [
        "train_path = tf.keras.utils.get_file(\n",
        "    \"iris_training.csv\", \"https://storage.googleapis.com/download.tensorflow.org/data/iris_training.csv\")\n",
        "test_path = tf.keras.utils.get_file(\n",
        "    \"iris_test.csv\", \"https://storage.googleapis.com/download.tensorflow.org/data/iris_test.csv\")\n",
        "\n",
        "train = pd.read_csv(train_path, names=CSV_COLUMN_NAMES, header=0)\n",
        "test = pd.read_csv(test_path, names=CSV_COLUMN_NAMES, header=0)"
      ],
      "execution_count": null,
      "outputs": []
    },
    {
      "cell_type": "markdown",
      "metadata": {
        "id": "xnHybPVNmAcA",
        "colab_type": "text"
      },
      "source": [
        "Print the first 10 values to check the loaded data"
      ]
    },
    {
      "cell_type": "code",
      "metadata": {
        "id": "LM8jfde0SZU5",
        "colab_type": "code",
        "colab": {
          "base_uri": "https://localhost:8080/",
          "height": 359
        },
        "outputId": "385f827a-5f6a-443a-ead2-c8d63d5b9d56"
      },
      "source": [
        "train.head(10)"
      ],
      "execution_count": null,
      "outputs": [
        {
          "output_type": "execute_result",
          "data": {
            "text/html": [
              "<div>\n",
              "<style scoped>\n",
              "    .dataframe tbody tr th:only-of-type {\n",
              "        vertical-align: middle;\n",
              "    }\n",
              "\n",
              "    .dataframe tbody tr th {\n",
              "        vertical-align: top;\n",
              "    }\n",
              "\n",
              "    .dataframe thead th {\n",
              "        text-align: right;\n",
              "    }\n",
              "</style>\n",
              "<table border=\"1\" class=\"dataframe\">\n",
              "  <thead>\n",
              "    <tr style=\"text-align: right;\">\n",
              "      <th></th>\n",
              "      <th>SepalLength</th>\n",
              "      <th>SepalWidth</th>\n",
              "      <th>PetalLength</th>\n",
              "      <th>PetalWidth</th>\n",
              "      <th>Species</th>\n",
              "    </tr>\n",
              "  </thead>\n",
              "  <tbody>\n",
              "    <tr>\n",
              "      <th>0</th>\n",
              "      <td>6.4</td>\n",
              "      <td>2.8</td>\n",
              "      <td>5.6</td>\n",
              "      <td>2.2</td>\n",
              "      <td>2</td>\n",
              "    </tr>\n",
              "    <tr>\n",
              "      <th>1</th>\n",
              "      <td>5.0</td>\n",
              "      <td>2.3</td>\n",
              "      <td>3.3</td>\n",
              "      <td>1.0</td>\n",
              "      <td>1</td>\n",
              "    </tr>\n",
              "    <tr>\n",
              "      <th>2</th>\n",
              "      <td>4.9</td>\n",
              "      <td>2.5</td>\n",
              "      <td>4.5</td>\n",
              "      <td>1.7</td>\n",
              "      <td>2</td>\n",
              "    </tr>\n",
              "    <tr>\n",
              "      <th>3</th>\n",
              "      <td>4.9</td>\n",
              "      <td>3.1</td>\n",
              "      <td>1.5</td>\n",
              "      <td>0.1</td>\n",
              "      <td>0</td>\n",
              "    </tr>\n",
              "    <tr>\n",
              "      <th>4</th>\n",
              "      <td>5.7</td>\n",
              "      <td>3.8</td>\n",
              "      <td>1.7</td>\n",
              "      <td>0.3</td>\n",
              "      <td>0</td>\n",
              "    </tr>\n",
              "    <tr>\n",
              "      <th>5</th>\n",
              "      <td>4.4</td>\n",
              "      <td>3.2</td>\n",
              "      <td>1.3</td>\n",
              "      <td>0.2</td>\n",
              "      <td>0</td>\n",
              "    </tr>\n",
              "    <tr>\n",
              "      <th>6</th>\n",
              "      <td>5.4</td>\n",
              "      <td>3.4</td>\n",
              "      <td>1.5</td>\n",
              "      <td>0.4</td>\n",
              "      <td>0</td>\n",
              "    </tr>\n",
              "    <tr>\n",
              "      <th>7</th>\n",
              "      <td>6.9</td>\n",
              "      <td>3.1</td>\n",
              "      <td>5.1</td>\n",
              "      <td>2.3</td>\n",
              "      <td>2</td>\n",
              "    </tr>\n",
              "    <tr>\n",
              "      <th>8</th>\n",
              "      <td>6.7</td>\n",
              "      <td>3.1</td>\n",
              "      <td>4.4</td>\n",
              "      <td>1.4</td>\n",
              "      <td>1</td>\n",
              "    </tr>\n",
              "    <tr>\n",
              "      <th>9</th>\n",
              "      <td>5.1</td>\n",
              "      <td>3.7</td>\n",
              "      <td>1.5</td>\n",
              "      <td>0.4</td>\n",
              "      <td>0</td>\n",
              "    </tr>\n",
              "  </tbody>\n",
              "</table>\n",
              "</div>"
            ],
            "text/plain": [
              "   SepalLength  SepalWidth  PetalLength  PetalWidth  Species\n",
              "0          6.4         2.8          5.6         2.2        2\n",
              "1          5.0         2.3          3.3         1.0        1\n",
              "2          4.9         2.5          4.5         1.7        2\n",
              "3          4.9         3.1          1.5         0.1        0\n",
              "4          5.7         3.8          1.7         0.3        0\n",
              "5          4.4         3.2          1.3         0.2        0\n",
              "6          5.4         3.4          1.5         0.4        0\n",
              "7          6.9         3.1          5.1         2.3        2\n",
              "8          6.7         3.1          4.4         1.4        1\n",
              "9          5.1         3.7          1.5         0.4        0"
            ]
          },
          "metadata": {
            "tags": []
          },
          "execution_count": 4
        }
      ]
    },
    {
      "cell_type": "markdown",
      "metadata": {
        "id": "MH3MQheKoSjb",
        "colab_type": "text"
      },
      "source": [
        "Now, we need to delete the label (Answer) from the training and testing dataset."
      ]
    },
    {
      "cell_type": "code",
      "metadata": {
        "id": "Qid8FJkuSbsZ",
        "colab_type": "code",
        "colab": {
          "base_uri": "https://localhost:8080/",
          "height": 204
        },
        "outputId": "0c80a9b6-0488-4595-83fc-539beeb247f7"
      },
      "source": [
        "train_y = train.pop('Species')\n",
        "test_y = test.pop('Species')\n",
        "train.head() # the species column is now deleted"
      ],
      "execution_count": null,
      "outputs": [
        {
          "output_type": "execute_result",
          "data": {
            "text/html": [
              "<div>\n",
              "<style scoped>\n",
              "    .dataframe tbody tr th:only-of-type {\n",
              "        vertical-align: middle;\n",
              "    }\n",
              "\n",
              "    .dataframe tbody tr th {\n",
              "        vertical-align: top;\n",
              "    }\n",
              "\n",
              "    .dataframe thead th {\n",
              "        text-align: right;\n",
              "    }\n",
              "</style>\n",
              "<table border=\"1\" class=\"dataframe\">\n",
              "  <thead>\n",
              "    <tr style=\"text-align: right;\">\n",
              "      <th></th>\n",
              "      <th>SepalLength</th>\n",
              "      <th>SepalWidth</th>\n",
              "      <th>PetalLength</th>\n",
              "      <th>PetalWidth</th>\n",
              "    </tr>\n",
              "  </thead>\n",
              "  <tbody>\n",
              "    <tr>\n",
              "      <th>0</th>\n",
              "      <td>6.4</td>\n",
              "      <td>2.8</td>\n",
              "      <td>5.6</td>\n",
              "      <td>2.2</td>\n",
              "    </tr>\n",
              "    <tr>\n",
              "      <th>1</th>\n",
              "      <td>5.0</td>\n",
              "      <td>2.3</td>\n",
              "      <td>3.3</td>\n",
              "      <td>1.0</td>\n",
              "    </tr>\n",
              "    <tr>\n",
              "      <th>2</th>\n",
              "      <td>4.9</td>\n",
              "      <td>2.5</td>\n",
              "      <td>4.5</td>\n",
              "      <td>1.7</td>\n",
              "    </tr>\n",
              "    <tr>\n",
              "      <th>3</th>\n",
              "      <td>4.9</td>\n",
              "      <td>3.1</td>\n",
              "      <td>1.5</td>\n",
              "      <td>0.1</td>\n",
              "    </tr>\n",
              "    <tr>\n",
              "      <th>4</th>\n",
              "      <td>5.7</td>\n",
              "      <td>3.8</td>\n",
              "      <td>1.7</td>\n",
              "      <td>0.3</td>\n",
              "    </tr>\n",
              "  </tbody>\n",
              "</table>\n",
              "</div>"
            ],
            "text/plain": [
              "   SepalLength  SepalWidth  PetalLength  PetalWidth\n",
              "0          6.4         2.8          5.6         2.2\n",
              "1          5.0         2.3          3.3         1.0\n",
              "2          4.9         2.5          4.5         1.7\n",
              "3          4.9         3.1          1.5         0.1\n",
              "4          5.7         3.8          1.7         0.3"
            ]
          },
          "metadata": {
            "tags": []
          },
          "execution_count": 5
        }
      ]
    },
    {
      "cell_type": "markdown",
      "metadata": {
        "id": "8g8TsfGeogMi",
        "colab_type": "text"
      },
      "source": [
        "Check the shape."
      ]
    },
    {
      "cell_type": "code",
      "metadata": {
        "id": "pwXZD0jFSduw",
        "colab_type": "code",
        "colab": {
          "base_uri": "https://localhost:8080/",
          "height": 34
        },
        "outputId": "46f36386-29ba-4c2b-8b10-a5d6b231fb3c"
      },
      "source": [
        "train.shape  # we have 120 entires with 4 features"
      ],
      "execution_count": null,
      "outputs": [
        {
          "output_type": "execute_result",
          "data": {
            "text/plain": [
              "(120, 4)"
            ]
          },
          "metadata": {
            "tags": []
          },
          "execution_count": 6
        }
      ]
    },
    {
      "cell_type": "markdown",
      "metadata": {
        "id": "1SPSVeT3n66C",
        "colab_type": "text"
      },
      "source": [
        "###Input Function\n",
        "Convert the inputs to a Dataset."
      ]
    },
    {
      "cell_type": "code",
      "metadata": {
        "id": "wbMUBSjHSfmq",
        "colab_type": "code",
        "colab": {}
      },
      "source": [
        "def input_fn(features, labels, training=True, batch_size=256):\n",
        "    dataset = tf.data.Dataset.from_tensor_slices((dict(features), labels))\n",
        "\n",
        "    # Shuffle and repeat if you are in training mode.\n",
        "    if training:\n",
        "        dataset = dataset.shuffle(1000).repeat()\n",
        "    \n",
        "    return dataset.batch(batch_size)\n"
      ],
      "execution_count": null,
      "outputs": []
    },
    {
      "cell_type": "markdown",
      "metadata": {
        "id": "6zHFZi6eo9q7",
        "colab_type": "text"
      },
      "source": [
        "### Feature Columns\n",
        "\n",
        "Feature columns describe how to use the input."
      ]
    },
    {
      "cell_type": "code",
      "metadata": {
        "id": "PbdSAAXfShpZ",
        "colab_type": "code",
        "colab": {
          "base_uri": "https://localhost:8080/",
          "height": 54
        },
        "outputId": "c67c1089-3c2b-48a0-d5e6-47af0ccfaf97"
      },
      "source": [
        "my_feature_columns = []\n",
        "for key in train.keys():\n",
        "    my_feature_columns.append(tf.feature_column.numeric_column(key=key))\n",
        "print(my_feature_columns)"
      ],
      "execution_count": null,
      "outputs": [
        {
          "output_type": "stream",
          "text": [
            "[NumericColumn(key='SepalLength', shape=(1,), default_value=None, dtype=tf.float32, normalizer_fn=None), NumericColumn(key='SepalWidth', shape=(1,), default_value=None, dtype=tf.float32, normalizer_fn=None), NumericColumn(key='PetalLength', shape=(1,), default_value=None, dtype=tf.float32, normalizer_fn=None), NumericColumn(key='PetalWidth', shape=(1,), default_value=None, dtype=tf.float32, normalizer_fn=None)]\n"
          ],
          "name": "stdout"
        }
      ]
    },
    {
      "cell_type": "markdown",
      "metadata": {
        "id": "yoO-pQT4pQwC",
        "colab_type": "text"
      },
      "source": [
        "###Building the Model\n",
        "You can build your model now!\n",
        "\n",
        "In this case, we will use this classifier:\n",
        "\n",
        "```DNNClassifier``` (Deep Neural Network)\n",
        "\n",
        "\n",
        "---\n",
        "\n",
        "\n",
        "![deep neural network](https://miro.medium.com/max/6694/1*Enbag4OPicgOFGP6m281lQ.jpeg)\n",
        "Read more about [DNNClassifier](https://www.tensorflow.org/api_docs/python/tf/estimator/DNNClassifier)\n",
        "\n",
        "Read more about [estimators](https://www.tensorflow.org/guide/estimator)."
      ]
    },
    {
      "cell_type": "code",
      "metadata": {
        "id": "carelHr8Sj7Z",
        "colab_type": "code",
        "colab": {
          "base_uri": "https://localhost:8080/",
          "height": 190
        },
        "outputId": "4a818b01-fde5-4f31-d7ab-283fdabbcfd5"
      },
      "source": [
        "# Build a DNN with 2 hidden layers with 30 and 10 hidden nodes each.\n",
        "classifier = tf.estimator.DNNClassifier(\n",
        "    feature_columns=my_feature_columns,\n",
        "    # Two hidden layers of 30 and 10 nodes respectively.\n",
        "    hidden_units=[30, 10],\n",
        "    # The model must choose between 3 classes.\n",
        "    n_classes=3)"
      ],
      "execution_count": null,
      "outputs": [
        {
          "output_type": "stream",
          "text": [
            "INFO:tensorflow:Using default config.\n",
            "WARNING:tensorflow:Using temporary folder as model directory: /tmp/tmpbf8ujdw7\n",
            "INFO:tensorflow:Using config: {'_model_dir': '/tmp/tmpbf8ujdw7', '_tf_random_seed': None, '_save_summary_steps': 100, '_save_checkpoints_steps': None, '_save_checkpoints_secs': 600, '_session_config': allow_soft_placement: true\n",
            "graph_options {\n",
            "  rewrite_options {\n",
            "    meta_optimizer_iterations: ONE\n",
            "  }\n",
            "}\n",
            ", '_keep_checkpoint_max': 5, '_keep_checkpoint_every_n_hours': 10000, '_log_step_count_steps': 100, '_train_distribute': None, '_device_fn': None, '_protocol': None, '_eval_distribute': None, '_experimental_distribute': None, '_experimental_max_worker_delay_secs': None, '_session_creation_timeout_secs': 7200, '_service': None, '_cluster_spec': ClusterSpec({}), '_task_type': 'worker', '_task_id': 0, '_global_id_in_cluster': 0, '_master': '', '_evaluation_master': '', '_is_chief': True, '_num_ps_replicas': 0, '_num_worker_replicas': 1}\n"
          ],
          "name": "stdout"
        }
      ]
    },
    {
      "cell_type": "markdown",
      "metadata": {
        "id": "FLxVXqNyr9F-",
        "colab_type": "text"
      },
      "source": [
        "###Training\n",
        "Now, we will train the model."
      ]
    },
    {
      "cell_type": "code",
      "metadata": {
        "id": "8Mdiz4gcSl2x",
        "colab_type": "code",
        "colab": {
          "base_uri": "https://localhost:8080/",
          "height": 1000
        },
        "outputId": "0990253c-174d-459a-c3f1-69fc98a01750"
      },
      "source": [
        "classifier.train(\n",
        "    input_fn=lambda: input_fn(train, train_y, training=True),\n",
        "    steps=5000)"
      ],
      "execution_count": null,
      "outputs": [
        {
          "output_type": "stream",
          "text": [
            "WARNING:tensorflow:From /usr/local/lib/python3.6/dist-packages/tensorflow/python/ops/resource_variable_ops.py:1666: calling BaseResourceVariable.__init__ (from tensorflow.python.ops.resource_variable_ops) with constraint is deprecated and will be removed in a future version.\n",
            "Instructions for updating:\n",
            "If using Keras pass *_constraint arguments to layers.\n",
            "WARNING:tensorflow:From /usr/local/lib/python3.6/dist-packages/tensorflow/python/training/training_util.py:236: Variable.initialized_value (from tensorflow.python.ops.variables) is deprecated and will be removed in a future version.\n",
            "Instructions for updating:\n",
            "Use Variable.read_value. Variables in 2.X are initialized automatically both in eager and graph (inside tf.defun) contexts.\n",
            "INFO:tensorflow:Calling model_fn.\n",
            "WARNING:tensorflow:Layer dnn is casting an input tensor from dtype float64 to the layer's dtype of float32, which is new behavior in TensorFlow 2.  The layer has dtype float32 because it's dtype defaults to floatx.\n",
            "\n",
            "If you intended to run this layer in float32, you can safely ignore this warning. If in doubt, this warning is likely only an issue if you are porting a TensorFlow 1.X model to TensorFlow 2.\n",
            "\n",
            "To change all layers to have dtype float64 by default, call `tf.keras.backend.set_floatx('float64')`. To change just this layer, pass dtype='float64' to the layer constructor. If you are the author of this layer, you can disable autocasting by passing autocast=False to the base Layer constructor.\n",
            "\n",
            "WARNING:tensorflow:From /usr/local/lib/python3.6/dist-packages/tensorflow/python/keras/optimizer_v2/adagrad.py:106: calling Constant.__init__ (from tensorflow.python.ops.init_ops) with dtype is deprecated and will be removed in a future version.\n",
            "Instructions for updating:\n",
            "Call initializer instance with the dtype argument instead of passing it to the constructor\n",
            "INFO:tensorflow:Done calling model_fn.\n",
            "INFO:tensorflow:Create CheckpointSaverHook.\n",
            "INFO:tensorflow:Graph was finalized.\n",
            "INFO:tensorflow:Running local_init_op.\n",
            "INFO:tensorflow:Done running local_init_op.\n",
            "INFO:tensorflow:Calling checkpoint listeners before saving checkpoint 0...\n",
            "INFO:tensorflow:Saving checkpoints for 0 into /tmp/tmpbf8ujdw7/model.ckpt.\n",
            "INFO:tensorflow:Calling checkpoint listeners after saving checkpoint 0...\n",
            "INFO:tensorflow:loss = 1.9224877, step = 0\n",
            "INFO:tensorflow:global_step/sec: 482.603\n",
            "INFO:tensorflow:loss = 1.0326027, step = 100 (0.209 sec)\n",
            "INFO:tensorflow:global_step/sec: 592.503\n",
            "INFO:tensorflow:loss = 0.93523276, step = 200 (0.170 sec)\n",
            "INFO:tensorflow:global_step/sec: 629.088\n",
            "INFO:tensorflow:loss = 0.8870089, step = 300 (0.162 sec)\n",
            "INFO:tensorflow:global_step/sec: 600.556\n",
            "INFO:tensorflow:loss = 0.8436899, step = 400 (0.163 sec)\n",
            "INFO:tensorflow:global_step/sec: 627.3\n",
            "INFO:tensorflow:loss = 0.8021226, step = 500 (0.159 sec)\n",
            "INFO:tensorflow:global_step/sec: 645.973\n",
            "INFO:tensorflow:loss = 0.78708327, step = 600 (0.155 sec)\n",
            "INFO:tensorflow:global_step/sec: 625.217\n",
            "INFO:tensorflow:loss = 0.7509229, step = 700 (0.161 sec)\n",
            "INFO:tensorflow:global_step/sec: 584.348\n",
            "INFO:tensorflow:loss = 0.7262033, step = 800 (0.170 sec)\n",
            "INFO:tensorflow:global_step/sec: 619.883\n",
            "INFO:tensorflow:loss = 0.69949615, step = 900 (0.164 sec)\n",
            "INFO:tensorflow:global_step/sec: 637.27\n",
            "INFO:tensorflow:loss = 0.6732424, step = 1000 (0.154 sec)\n",
            "INFO:tensorflow:global_step/sec: 643.451\n",
            "INFO:tensorflow:loss = 0.65532154, step = 1100 (0.159 sec)\n",
            "INFO:tensorflow:global_step/sec: 652.381\n",
            "INFO:tensorflow:loss = 0.6412173, step = 1200 (0.150 sec)\n",
            "INFO:tensorflow:global_step/sec: 656.895\n",
            "INFO:tensorflow:loss = 0.62966174, step = 1300 (0.152 sec)\n",
            "INFO:tensorflow:global_step/sec: 665.675\n",
            "INFO:tensorflow:loss = 0.6111392, step = 1400 (0.150 sec)\n",
            "INFO:tensorflow:global_step/sec: 616.038\n",
            "INFO:tensorflow:loss = 0.59370947, step = 1500 (0.162 sec)\n",
            "INFO:tensorflow:global_step/sec: 569.131\n",
            "INFO:tensorflow:loss = 0.5862054, step = 1600 (0.176 sec)\n",
            "INFO:tensorflow:global_step/sec: 648.454\n",
            "INFO:tensorflow:loss = 0.57233775, step = 1700 (0.156 sec)\n",
            "INFO:tensorflow:global_step/sec: 640.032\n",
            "INFO:tensorflow:loss = 0.55934787, step = 1800 (0.154 sec)\n",
            "INFO:tensorflow:global_step/sec: 649.962\n",
            "INFO:tensorflow:loss = 0.54281014, step = 1900 (0.157 sec)\n",
            "INFO:tensorflow:global_step/sec: 628.323\n",
            "INFO:tensorflow:loss = 0.5454693, step = 2000 (0.158 sec)\n",
            "INFO:tensorflow:global_step/sec: 614.111\n",
            "INFO:tensorflow:loss = 0.531928, step = 2100 (0.163 sec)\n",
            "INFO:tensorflow:global_step/sec: 653.879\n",
            "INFO:tensorflow:loss = 0.52130103, step = 2200 (0.150 sec)\n",
            "INFO:tensorflow:global_step/sec: 622.455\n",
            "INFO:tensorflow:loss = 0.52293736, step = 2300 (0.163 sec)\n",
            "INFO:tensorflow:global_step/sec: 658.898\n",
            "INFO:tensorflow:loss = 0.5126127, step = 2400 (0.149 sec)\n",
            "INFO:tensorflow:global_step/sec: 659.043\n",
            "INFO:tensorflow:loss = 0.5065038, step = 2500 (0.154 sec)\n",
            "INFO:tensorflow:global_step/sec: 622.947\n",
            "INFO:tensorflow:loss = 0.4843707, step = 2600 (0.161 sec)\n",
            "INFO:tensorflow:global_step/sec: 648.953\n",
            "INFO:tensorflow:loss = 0.49097463, step = 2700 (0.151 sec)\n",
            "INFO:tensorflow:global_step/sec: 600.251\n",
            "INFO:tensorflow:loss = 0.48893905, step = 2800 (0.168 sec)\n",
            "INFO:tensorflow:global_step/sec: 613.456\n",
            "INFO:tensorflow:loss = 0.47204602, step = 2900 (0.162 sec)\n",
            "INFO:tensorflow:global_step/sec: 682.055\n",
            "INFO:tensorflow:loss = 0.47088242, step = 3000 (0.147 sec)\n",
            "INFO:tensorflow:global_step/sec: 693.701\n",
            "INFO:tensorflow:loss = 0.46694276, step = 3100 (0.144 sec)\n",
            "INFO:tensorflow:global_step/sec: 671.809\n",
            "INFO:tensorflow:loss = 0.46361095, step = 3200 (0.149 sec)\n",
            "INFO:tensorflow:global_step/sec: 683.978\n",
            "INFO:tensorflow:loss = 0.45976126, step = 3300 (0.146 sec)\n",
            "INFO:tensorflow:global_step/sec: 628.325\n",
            "INFO:tensorflow:loss = 0.4441055, step = 3400 (0.161 sec)\n",
            "INFO:tensorflow:global_step/sec: 677.484\n",
            "INFO:tensorflow:loss = 0.44305217, step = 3500 (0.148 sec)\n",
            "INFO:tensorflow:global_step/sec: 649.228\n",
            "INFO:tensorflow:loss = 0.44421124, step = 3600 (0.152 sec)\n",
            "INFO:tensorflow:global_step/sec: 611.863\n",
            "INFO:tensorflow:loss = 0.43811223, step = 3700 (0.166 sec)\n",
            "INFO:tensorflow:global_step/sec: 638.954\n",
            "INFO:tensorflow:loss = 0.43896806, step = 3800 (0.156 sec)\n",
            "INFO:tensorflow:global_step/sec: 608.83\n",
            "INFO:tensorflow:loss = 0.4268191, step = 3900 (0.164 sec)\n",
            "INFO:tensorflow:global_step/sec: 637.595\n",
            "INFO:tensorflow:loss = 0.4201681, step = 4000 (0.154 sec)\n",
            "INFO:tensorflow:global_step/sec: 564.902\n",
            "INFO:tensorflow:loss = 0.40990955, step = 4100 (0.177 sec)\n",
            "INFO:tensorflow:global_step/sec: 548.477\n",
            "INFO:tensorflow:loss = 0.41542095, step = 4200 (0.183 sec)\n",
            "INFO:tensorflow:global_step/sec: 640.669\n",
            "INFO:tensorflow:loss = 0.4165232, step = 4300 (0.155 sec)\n",
            "INFO:tensorflow:global_step/sec: 612.025\n",
            "INFO:tensorflow:loss = 0.408467, step = 4400 (0.163 sec)\n",
            "INFO:tensorflow:global_step/sec: 662.035\n",
            "INFO:tensorflow:loss = 0.40220803, step = 4500 (0.151 sec)\n",
            "INFO:tensorflow:global_step/sec: 604.347\n",
            "INFO:tensorflow:loss = 0.40620732, step = 4600 (0.166 sec)\n",
            "INFO:tensorflow:global_step/sec: 581.04\n",
            "INFO:tensorflow:loss = 0.39666975, step = 4700 (0.172 sec)\n",
            "INFO:tensorflow:global_step/sec: 606.706\n",
            "INFO:tensorflow:loss = 0.39103198, step = 4800 (0.167 sec)\n",
            "INFO:tensorflow:global_step/sec: 600.625\n",
            "INFO:tensorflow:loss = 0.39637616, step = 4900 (0.163 sec)\n",
            "INFO:tensorflow:Calling checkpoint listeners before saving checkpoint 5000...\n",
            "INFO:tensorflow:Saving checkpoints for 5000 into /tmp/tmpbf8ujdw7/model.ckpt.\n",
            "INFO:tensorflow:Calling checkpoint listeners after saving checkpoint 5000...\n",
            "INFO:tensorflow:Loss for final step: 0.39163795.\n"
          ],
          "name": "stdout"
        },
        {
          "output_type": "execute_result",
          "data": {
            "text/plain": [
              "<tensorflow_estimator.python.estimator.canned.dnn.DNNClassifierV2 at 0x7fa482318320>"
            ]
          },
          "metadata": {
            "tags": []
          },
          "execution_count": 10
        }
      ]
    },
    {
      "cell_type": "markdown",
      "metadata": {
        "id": "6_m1MzEAsk_t",
        "colab_type": "text"
      },
      "source": [
        "###Evaluation\n",
        "Now let's check the trained model."
      ]
    },
    {
      "cell_type": "code",
      "metadata": {
        "id": "LnAnMBn6SoBp",
        "colab_type": "code",
        "colab": {
          "base_uri": "https://localhost:8080/",
          "height": 377
        },
        "outputId": "1d139be1-8ac5-447f-ab46-1c1db3e2dc1d"
      },
      "source": [
        "eval_result = classifier.evaluate(\n",
        "    input_fn=lambda: input_fn(test, test_y, training=False))\n",
        "\n",
        "print('\\nTest set accuracy: {accuracy:0.3f}\\n'.format(**eval_result))"
      ],
      "execution_count": null,
      "outputs": [
        {
          "output_type": "stream",
          "text": [
            "INFO:tensorflow:Calling model_fn.\n",
            "WARNING:tensorflow:Layer dnn is casting an input tensor from dtype float64 to the layer's dtype of float32, which is new behavior in TensorFlow 2.  The layer has dtype float32 because it's dtype defaults to floatx.\n",
            "\n",
            "If you intended to run this layer in float32, you can safely ignore this warning. If in doubt, this warning is likely only an issue if you are porting a TensorFlow 1.X model to TensorFlow 2.\n",
            "\n",
            "To change all layers to have dtype float64 by default, call `tf.keras.backend.set_floatx('float64')`. To change just this layer, pass dtype='float64' to the layer constructor. If you are the author of this layer, you can disable autocasting by passing autocast=False to the base Layer constructor.\n",
            "\n",
            "INFO:tensorflow:Done calling model_fn.\n",
            "INFO:tensorflow:Starting evaluation at 2020-07-23T10:44:20Z\n",
            "INFO:tensorflow:Graph was finalized.\n",
            "INFO:tensorflow:Restoring parameters from /tmp/tmpbf8ujdw7/model.ckpt-5000\n",
            "INFO:tensorflow:Running local_init_op.\n",
            "INFO:tensorflow:Done running local_init_op.\n",
            "INFO:tensorflow:Inference Time : 0.33656s\n",
            "INFO:tensorflow:Finished evaluation at 2020-07-23-10:44:21\n",
            "INFO:tensorflow:Saving dict for global step 5000: accuracy = 0.9, average_loss = 0.45003158, global_step = 5000, loss = 0.45003158\n",
            "INFO:tensorflow:Saving 'checkpoint_path' summary for global step 5000: /tmp/tmpbf8ujdw7/model.ckpt-5000\n",
            "\n",
            "Test set accuracy: 0.900\n",
            "\n"
          ],
          "name": "stdout"
        }
      ]
    },
    {
      "cell_type": "markdown",
      "metadata": {
        "id": "S60X2-6ntFDn",
        "colab_type": "text"
      },
      "source": [
        "Note: There is no need to specify the steps number in testing, since we look at the data of testing at one time."
      ]
    },
    {
      "cell_type": "markdown",
      "metadata": {
        "id": "2hyQVmBYtW5m",
        "colab_type": "text"
      },
      "source": [
        "### Predictions\n",
        "Now that we have a trained model it's good to use it to make predictions for new values."
      ]
    },
    {
      "cell_type": "code",
      "metadata": {
        "id": "lZCNXrhESqQJ",
        "colab_type": "code",
        "colab": {
          "base_uri": "https://localhost:8080/",
          "height": 258
        },
        "outputId": "86bdb940-33bf-4671-ec62-38d2f7730948"
      },
      "source": [
        "def input_fn(features, batch_size=256):\n",
        "    # Convert the inputs to a Dataset without labels.\n",
        "    return tf.data.Dataset.from_tensor_slices(dict(features)).batch(batch_size)\n",
        "\n",
        "features = ['SepalLength', 'SepalWidth', 'PetalLength', 'PetalWidth']\n",
        "predict = {}\n",
        "\n",
        "print(\"Please type numeric values as prompted.\")\n",
        "for feature in features:\n",
        "  valid = True\n",
        "  while valid: \n",
        "    val = input(feature + \": \")\n",
        "    if not val.isdigit(): valid = False\n",
        "\n",
        "  predict[feature] = [float(val)]\n",
        "\n",
        "predictions = classifier.predict(input_fn=lambda: input_fn(predict))\n",
        "for pred_dict in predictions:\n",
        "    print(pred_dict)\n",
        "    class_id = pred_dict['class_ids'][0]\n",
        "    probability = pred_dict['probabilities'][class_id]\n",
        "\n",
        "    print('Prediction is \"{}\" ({:.1f}%)'.format(\n",
        "        SPECIES[class_id], 100 * probability))\n"
      ],
      "execution_count": null,
      "outputs": [
        {
          "output_type": "stream",
          "text": [
            "Please type numeric values as prompted.\n",
            "SepalLength: 6.9\n",
            "SepalWidth: 3.1\n",
            "PetalLength: 5.4\n",
            "PetalWidth: 2.1\n",
            "INFO:tensorflow:Calling model_fn.\n",
            "INFO:tensorflow:Done calling model_fn.\n",
            "INFO:tensorflow:Graph was finalized.\n",
            "INFO:tensorflow:Restoring parameters from /tmp/tmpbf8ujdw7/model.ckpt-5000\n",
            "INFO:tensorflow:Running local_init_op.\n",
            "INFO:tensorflow:Done running local_init_op.\n",
            "{'logits': array([-0.1411683,  3.0486739,  3.7881646], dtype=float32), 'probabilities': array([0.01313066, 0.3188728 , 0.6679966 ], dtype=float32), 'class_ids': array([2]), 'classes': array([b'2'], dtype=object), 'all_class_ids': array([0, 1, 2], dtype=int32), 'all_classes': array([b'0', b'1', b'2'], dtype=object)}\n",
            "Prediction is \"Virginica\" (66.8%)\n"
          ],
          "name": "stdout"
        }
      ]
    },
    {
      "cell_type": "markdown",
      "metadata": {
        "id": "vV-gxsISUATs",
        "colab_type": "text"
      },
      "source": [
        "# Some Values to try:\n",
        "\n",
        "```\n",
        "'SepalLength': [5.1, 5.9, 6.9]\n",
        "'SepalWidth': [3.3, 3.0, 3.1]\n",
        "'PetalLength': [1.7, 4.2, 5.4]\n",
        "'PetalWidth': [0.5, 1.5, 2.1]\n",
        "```\n",
        "\n"
      ]
    },
    {
      "cell_type": "markdown",
      "metadata": {
        "id": "Cx7iScMxTS9t",
        "colab_type": "text"
      },
      "source": [
        "# **Done**"
      ]
    }
  ]
}